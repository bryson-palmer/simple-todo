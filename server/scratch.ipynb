{
 "cells": [
  {
   "cell_type": "code",
   "execution_count": 4,
   "metadata": {},
   "outputs": [],
   "source": [
    "import sqlite3\n",
    "from flask import Flask"
   ]
  },
  {
   "cell_type": "code",
   "execution_count": 5,
   "metadata": {},
   "outputs": [
    {
     "name": "stdout",
     "output_type": "stream",
     "text": [
      "[{'body': 'Lorem ipsum dolor sit amet, consectetur adipiscing elit, sed do '\n",
      "          'eiusmod tempor incididunt ut labore et dolore magna aliqua. Neque '\n",
      "          'egestas congue quisque egestas. Nunc sed augue lacus viverra vitae '\n",
      "          'congue eu. Vitae sapien pellentesque habitant morbi. Fringilla urna '\n",
      "          'porttitor rhoncus dolor purus non enim. Vel turpis nunc eget lorem '\n",
      "          'dolor sed viverra ipsum. Tortor posuere ac ut consequat semper '\n",
      "          'viverra nam. Sagittis eu volutpat odio facilisis mauris sit amet '\n",
      "          'massa vitae. Nullam non nisi est sit. Tempus urna et pharetra '\n",
      "          'pharetra massa massa. Aliquam malesuada bibendum arcu vitae '\n",
      "          'elementum curabitur vitae nunc sed. Urna molestie at elementum eu '\n",
      "          'facilisis sed. Dictum fusce ut placerat orci nulla pellentesque '\n",
      "          'dignissim.',\n",
      "  'id': 1,\n",
      "  'title': 'First Note'},\n",
      " {'body': 'Lorem ipsum dolor sit amet, consectetur adipiscing elit, sed do '\n",
      "          'eiusmod tempor incididunt ut labore et dolore magna aliqua. Dolor '\n",
      "          'purus non enim praesent elementum facilisis leo. Donec ultrices '\n",
      "          'tincidunt arcu non sodales neque sodales. Montes nascetur ridiculus '\n",
      "          'mus mauris. Donec massa sapien faucibus et. Arcu cursus euismod '\n",
      "          'quis viverra nibh cras pulvinar mattis. Rhoncus urna neque viverra '\n",
      "          'justo. Non enim praesent elementum facilisis leo vel. Odio '\n",
      "          'facilisis mauris sit amet massa vitae tortor condimentum. Est lorem '\n",
      "          'ipsum dolor sit amet consectetur adipiscing. Gravida quis blandit '\n",
      "          'turpis cursus in hac habitasse platea dictumst. Ut faucibus '\n",
      "          'pulvinar elementum integer. Nec nam aliquam sem et tortor consequat '\n",
      "          'id. Gravida cum sociis natoque penatibus et magnis dis parturient.',\n",
      "  'id': 2,\n",
      "  'title': 'Second Note'},\n",
      " {'body': 'Lorem ipsum dolor sit amet, consectetur adipiscing elit, sed do '\n",
      "          'eiusmod tempor incididunt ut labore et dolore magna aliqua. Et '\n",
      "          'egestas quis ipsum suspendisse ultrices gravida dictum fusce. Ante '\n",
      "          'in nibh mauris cursus mattis molestie a iaculis at. Vestibulum '\n",
      "          'rhoncus est pellentesque elit ullamcorper dignissim. Ut pharetra '\n",
      "          'sit amet aliquam id. At auctor urna nunc id cursus metus. Pharetra '\n",
      "          'pharetra massa massa ultricies mi quis. Nulla facilisi morbi tempus '\n",
      "          'iaculis urna id. Quisque non tellus orci ac auctor augue. Justo '\n",
      "          'laoreet sit amet cursus sit. Sed faucibus turpis in eu mi bibendum '\n",
      "          'neque. Aliquam etiam erat velit scelerisque in dictum non '\n",
      "          'consectetur. Id aliquet risus feugiat in ante. Aliquam sem et '\n",
      "          'tortor consequat id. Tellus cras adipiscing enim eu turpis egestas. '\n",
      "          'Aliquet nec ullamcorper sit amet risus nullam. Id diam maecenas '\n",
      "          'ultricies mi. Volutpat maecenas volutpat blandit aliquam.',\n",
      "  'id': 3,\n",
      "  'title': 'Third Note'}]\n"
     ]
    }
   ],
   "source": [
    "import json\n",
    "from pprint import pprint\n",
    "# import os\n",
    "\n",
    "# print(os.getcwd())\n",
    "path = '/Users/palmercomputer/Desktop/full-stack-projects/web-apps/simple-todo/client/mockData/db.json'\n",
    "\n",
    "with open(path, 'r') as f:\n",
    "    db = json.load(f)\n",
    "\n",
    "# f = open(path, 'r')\n",
    "\n",
    "# db = json.load(f)\n",
    "\n",
    "# f.close()\n",
    "\n",
    "pprint(db['notes'])"
   ]
  },
  {
   "cell_type": "code",
   "execution_count": 5,
   "metadata": {},
   "outputs": [],
   "source": [
    "server = Flask('todo_server')\n",
    "\n",
    "@server.route('/')\n",
    "def home():\n",
    "  return 'Welcome'"
   ]
  },
  {
   "cell_type": "code",
   "execution_count": 6,
   "metadata": {},
   "outputs": [
    {
     "name": "stdout",
     "output_type": "stream",
     "text": [
      " * Serving Flask app 'todo_server'\n",
      " * Debug mode: off\n"
     ]
    },
    {
     "name": "stderr",
     "output_type": "stream",
     "text": [
      "\u001b[31m\u001b[1mWARNING: This is a development server. Do not use it in a production deployment. Use a production WSGI server instead.\u001b[0m\n",
      " * Running on http://127.0.0.1:5000\n",
      "\u001b[33mPress CTRL+C to quit\u001b[0m\n",
      "127.0.0.1 - - [01/May/2023 13:54:20] \"GET / HTTP/1.1\" 200 -\n",
      "127.0.0.1 - - [01/May/2023 13:54:20] \"\u001b[33mGET /favicon.ico HTTP/1.1\u001b[0m\" 404 -\n"
     ]
    }
   ],
   "source": [
    "server.run()"
   ]
  }
 ],
 "metadata": {
  "kernelspec": {
   "display_name": "Python 3",
   "language": "python",
   "name": "python3"
  },
  "language_info": {
   "codemirror_mode": {
    "name": "ipython",
    "version": 3
   },
   "file_extension": ".py",
   "mimetype": "text/x-python",
   "name": "python",
   "nbconvert_exporter": "python",
   "pygments_lexer": "ipython3",
   "version": "3.11.1"
  },
  "orig_nbformat": 4
 },
 "nbformat": 4,
 "nbformat_minor": 2
}
